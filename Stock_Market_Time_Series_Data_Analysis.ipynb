{
  "cells": [
    {
      "metadata": {
        "id": "27mCyUHQDPDK"
      },
      "cell_type": "markdown",
      "source": [
        "Everyone into the **Stock Markets** these days and I got curious as well. How do stocks could be analyzed? Even though I am pretty sure I did a good job in a process, but I would not use it as a 100% sure thing to invest😊. And in a process, I learned a lot of Python which is always a good thing.\n",
        "\n",
        "In this kernel, I would take a look at the latest **Shopify**, **JD.com** and **Alibaba** stocks data beginning from 2015.\n",
        "\n",
        "**Shopify** is a multinational Canadian e-commerce company with headquarters in Ottawa, Ontario that was founded in 2004. The company offers business e-commerce platforms for online stores, including payments, marketing, shipping and customer engagement tools to simplify the process of running an online store for small merchants. In 2019 Shopify announced reaching over 1,000,000 businesses in approximately 175 countries.\n",
        "**JD.com** is an e-commerce Chinese company headquartered in Beijing that was founded in 1998. It is one of two huge business-to-consumer online retailers, a member of Fortune Global 500 with a total revenue of $67 billion in 2018.\n",
        "\n",
        "**Alibaba** is the second top e-commerce and technology company in China and a major competitor to JD.com. It was created in 1999 and it's now headquartered in Hangzhou. The company offers sales services via web portals such as business-to-business, business-to-consumer, and consumer-to-consumer, as well as electronic payment services, shopping search engines, and cloud computing services. It' revenue in 2019 was over $56 billion."
      ]
    },
    {
      "metadata": {
        "id": "GaBHP_fSDPDO"
      },
      "cell_type": "markdown",
      "source": [
        "Ok. Here we go..."
      ]
    },
    {
      "cell_type": "code",
      "source": [
        "pip install pandas-datareader"
      ],
      "metadata": {
        "colab": {
          "base_uri": "https://localhost:8080/"
        },
        "id": "bZ-UGfTiAGIu",
        "outputId": "7f4862a2-0eea-4d43-d42f-c34feec48dd4"
      },
      "execution_count": 1,
      "outputs": [
        {
          "output_type": "stream",
          "name": "stdout",
          "text": [
            "Requirement already satisfied: pandas-datareader in /usr/local/lib/python3.10/dist-packages (0.10.0)\n",
            "Requirement already satisfied: lxml in /usr/local/lib/python3.10/dist-packages (from pandas-datareader) (5.3.0)\n",
            "Requirement already satisfied: pandas>=0.23 in /usr/local/lib/python3.10/dist-packages (from pandas-datareader) (2.2.2)\n",
            "Requirement already satisfied: requests>=2.19.0 in /usr/local/lib/python3.10/dist-packages (from pandas-datareader) (2.32.3)\n",
            "Requirement already satisfied: numpy>=1.22.4 in /usr/local/lib/python3.10/dist-packages (from pandas>=0.23->pandas-datareader) (1.26.4)\n",
            "Requirement already satisfied: python-dateutil>=2.8.2 in /usr/local/lib/python3.10/dist-packages (from pandas>=0.23->pandas-datareader) (2.8.2)\n",
            "Requirement already satisfied: pytz>=2020.1 in /usr/local/lib/python3.10/dist-packages (from pandas>=0.23->pandas-datareader) (2024.2)\n",
            "Requirement already satisfied: tzdata>=2022.7 in /usr/local/lib/python3.10/dist-packages (from pandas>=0.23->pandas-datareader) (2024.2)\n",
            "Requirement already satisfied: charset-normalizer<4,>=2 in /usr/local/lib/python3.10/dist-packages (from requests>=2.19.0->pandas-datareader) (3.4.0)\n",
            "Requirement already satisfied: idna<4,>=2.5 in /usr/local/lib/python3.10/dist-packages (from requests>=2.19.0->pandas-datareader) (3.10)\n",
            "Requirement already satisfied: urllib3<3,>=1.21.1 in /usr/local/lib/python3.10/dist-packages (from requests>=2.19.0->pandas-datareader) (2.2.3)\n",
            "Requirement already satisfied: certifi>=2017.4.17 in /usr/local/lib/python3.10/dist-packages (from requests>=2.19.0->pandas-datareader) (2024.8.30)\n",
            "Requirement already satisfied: six>=1.5 in /usr/local/lib/python3.10/dist-packages (from python-dateutil>=2.8.2->pandas>=0.23->pandas-datareader) (1.16.0)\n"
          ]
        }
      ]
    },
    {
      "metadata": {
        "_uuid": "d629ff2d2480ee46fbb7e2d37f6b5fab8052498a",
        "_cell_guid": "79c7e3d0-c299-4dcb-8224-4455121ee9b0",
        "trusted": true,
        "id": "hULHJvusDPDP"
      },
      "cell_type": "code",
      "source": [
        "#importing all of the neccesary libraries\n",
        "\n",
        "import numpy as np\n",
        "import pandas as pd\n",
        "import matplotlib.pyplot as plt\n",
        "%matplotlib inline\n",
        "import seaborn as sns\n",
        "\n",
        "import pandas_datareader\n",
        "import datetime\n",
        "\n",
        "import pandas_datareader.data as web"
      ],
      "execution_count": 2,
      "outputs": []
    },
    {
      "metadata": {
        "id": "FE64JOpEDPDR"
      },
      "cell_type": "markdown",
      "source": [
        "To keep the dataset up to date, I decided to use .today() instead of just setting an exact date. Now it always has the latest data."
      ]
    },
    {
      "metadata": {
        "trusted": true,
        "id": "3-D-lBRoDPDS"
      },
      "cell_type": "code",
      "source": [
        "#creating a start and an end dates:\n",
        "start = datetime.datetime(2016,1,1)\n",
        "end = datetime.datetime.today()"
      ],
      "execution_count": 3,
      "outputs": []
    },
    {
      "metadata": {
        "id": "d9uJ-pRJDPDT"
      },
      "cell_type": "markdown",
      "source": [
        "The next step will be downloading the data. I used 'yahoo' as a source since 'google' would result in \"*NotImplementedError: data_source='google' is not implemented*\"\n",
        "Tickers for the stocks can be found online. I found mine by just googling the company names."
      ]
    },
    {
      "cell_type": "code",
      "source": [
        "!pip install yfinance\n",
        "import yfinance as yf"
      ],
      "metadata": {
        "colab": {
          "base_uri": "https://localhost:8080/"
        },
        "id": "XDU1qdC8ApJw",
        "outputId": "cda66345-c221-4515-8fe4-9d4e0aa34631"
      },
      "execution_count": 5,
      "outputs": [
        {
          "output_type": "stream",
          "name": "stdout",
          "text": [
            "Requirement already satisfied: yfinance in /usr/local/lib/python3.10/dist-packages (0.2.50)\n",
            "Requirement already satisfied: pandas>=1.3.0 in /usr/local/lib/python3.10/dist-packages (from yfinance) (2.2.2)\n",
            "Requirement already satisfied: numpy>=1.16.5 in /usr/local/lib/python3.10/dist-packages (from yfinance) (1.26.4)\n",
            "Requirement already satisfied: requests>=2.31 in /usr/local/lib/python3.10/dist-packages (from yfinance) (2.32.3)\n",
            "Requirement already satisfied: multitasking>=0.0.7 in /usr/local/lib/python3.10/dist-packages (from yfinance) (0.0.11)\n",
            "Requirement already satisfied: lxml>=4.9.1 in /usr/local/lib/python3.10/dist-packages (from yfinance) (5.3.0)\n",
            "Requirement already satisfied: platformdirs>=2.0.0 in /usr/local/lib/python3.10/dist-packages (from yfinance) (4.3.6)\n",
            "Requirement already satisfied: pytz>=2022.5 in /usr/local/lib/python3.10/dist-packages (from yfinance) (2024.2)\n",
            "Requirement already satisfied: frozendict>=2.3.4 in /usr/local/lib/python3.10/dist-packages (from yfinance) (2.4.6)\n",
            "Requirement already satisfied: peewee>=3.16.2 in /usr/local/lib/python3.10/dist-packages (from yfinance) (3.17.8)\n",
            "Requirement already satisfied: beautifulsoup4>=4.11.1 in /usr/local/lib/python3.10/dist-packages (from yfinance) (4.12.3)\n",
            "Requirement already satisfied: html5lib>=1.1 in /usr/local/lib/python3.10/dist-packages (from yfinance) (1.1)\n",
            "Requirement already satisfied: soupsieve>1.2 in /usr/local/lib/python3.10/dist-packages (from beautifulsoup4>=4.11.1->yfinance) (2.6)\n",
            "Requirement already satisfied: six>=1.9 in /usr/local/lib/python3.10/dist-packages (from html5lib>=1.1->yfinance) (1.16.0)\n",
            "Requirement already satisfied: webencodings in /usr/local/lib/python3.10/dist-packages (from html5lib>=1.1->yfinance) (0.5.1)\n",
            "Requirement already satisfied: python-dateutil>=2.8.2 in /usr/local/lib/python3.10/dist-packages (from pandas>=1.3.0->yfinance) (2.8.2)\n",
            "Requirement already satisfied: tzdata>=2022.7 in /usr/local/lib/python3.10/dist-packages (from pandas>=1.3.0->yfinance) (2024.2)\n",
            "Requirement already satisfied: charset-normalizer<4,>=2 in /usr/local/lib/python3.10/dist-packages (from requests>=2.31->yfinance) (3.4.0)\n",
            "Requirement already satisfied: idna<4,>=2.5 in /usr/local/lib/python3.10/dist-packages (from requests>=2.31->yfinance) (3.10)\n",
            "Requirement already satisfied: urllib3<3,>=1.21.1 in /usr/local/lib/python3.10/dist-packages (from requests>=2.31->yfinance) (2.2.3)\n",
            "Requirement already satisfied: certifi>=2017.4.17 in /usr/local/lib/python3.10/dist-packages (from requests>=2.31->yfinance) (2024.8.30)\n"
          ]
        }
      ]
    },
    {
      "metadata": {
        "trusted": true,
        "id": "LEC0s0uJDPDT",
        "colab": {
          "base_uri": "https://localhost:8080/"
        },
        "outputId": "04b668ad-dd97-4fc8-d414-14772b043d50"
      },
      "cell_type": "code",
      "source": [
        "#Shopify\n",
        "# shop = web.DataReader(\"SHOP\", \"yahoo\", start, end)\n",
        "# shop.head()\n",
        "\n",
        "# Fetch the data using yfinance\n",
        "shop = yf.download(\"SHOP\", start=start, end=end)\n",
        "print(shop.head())"
      ],
      "execution_count": 7,
      "outputs": [
        {
          "output_type": "stream",
          "name": "stderr",
          "text": [
            "\r[*********************100%***********************]  1 of 1 completed"
          ]
        },
        {
          "output_type": "stream",
          "name": "stdout",
          "text": [
            "Price      Adj Close  Close    High    Low   Open   Volume\n",
            "Ticker          SHOP   SHOP    SHOP   SHOP   SHOP     SHOP\n",
            "Date                                                      \n",
            "2016-01-04     2.572  2.572  2.5835  2.452  2.542  6018000\n",
            "2016-01-05     2.531  2.531  2.6500  2.526  2.550  4182000\n",
            "2016-01-06     2.530  2.530  2.5340  2.418  2.495  2566000\n",
            "2016-01-07     2.467  2.467  2.5580  2.463  2.500  4160000\n",
            "2016-01-08     2.493  2.493  2.5370  2.470  2.500  1374000\n"
          ]
        },
        {
          "output_type": "stream",
          "name": "stderr",
          "text": [
            "\n"
          ]
        }
      ]
    },
    {
      "metadata": {
        "trusted": true,
        "id": "8U55klCMDPDT",
        "colab": {
          "base_uri": "https://localhost:8080/",
          "height": 286
        },
        "outputId": "a3044143-6d97-4d3e-d06a-3d8926755033"
      },
      "cell_type": "code",
      "source": [
        "#JD.com\n",
        "jd = yf.download('JD', start, end)\n",
        "jd.head()"
      ],
      "execution_count": 9,
      "outputs": [
        {
          "output_type": "stream",
          "name": "stderr",
          "text": [
            "\r[*********************100%***********************]  1 of 1 completed\n"
          ]
        },
        {
          "output_type": "execute_result",
          "data": {
            "text/plain": [
              "Price       Adj Close      Close       High        Low       Open    Volume\n",
              "Ticker             JD         JD         JD         JD         JD        JD\n",
              "Date                                                                       \n",
              "2016-01-04  27.585630  29.530001  30.660000  29.000000  30.660000  18265300\n",
              "2016-01-05  28.024683  30.000000  30.299999  29.600000  30.049999   9426400\n",
              "2016-01-06  27.800488  29.760000  30.030001  29.049999  29.230000  12988900\n",
              "2016-01-07  26.109663  27.950001  29.150000  27.650000  28.340000  18155700\n",
              "2016-01-08  25.801392  27.620001  28.900000  27.469999  28.580000  15164100"
            ],
            "text/html": [
              "\n",
              "  <div id=\"df-987d4bd7-f233-4856-abe0-fa82fc19369e\" class=\"colab-df-container\">\n",
              "    <div>\n",
              "<style scoped>\n",
              "    .dataframe tbody tr th:only-of-type {\n",
              "        vertical-align: middle;\n",
              "    }\n",
              "\n",
              "    .dataframe tbody tr th {\n",
              "        vertical-align: top;\n",
              "    }\n",
              "\n",
              "    .dataframe thead tr th {\n",
              "        text-align: left;\n",
              "    }\n",
              "\n",
              "    .dataframe thead tr:last-of-type th {\n",
              "        text-align: right;\n",
              "    }\n",
              "</style>\n",
              "<table border=\"1\" class=\"dataframe\">\n",
              "  <thead>\n",
              "    <tr>\n",
              "      <th>Price</th>\n",
              "      <th>Adj Close</th>\n",
              "      <th>Close</th>\n",
              "      <th>High</th>\n",
              "      <th>Low</th>\n",
              "      <th>Open</th>\n",
              "      <th>Volume</th>\n",
              "    </tr>\n",
              "    <tr>\n",
              "      <th>Ticker</th>\n",
              "      <th>JD</th>\n",
              "      <th>JD</th>\n",
              "      <th>JD</th>\n",
              "      <th>JD</th>\n",
              "      <th>JD</th>\n",
              "      <th>JD</th>\n",
              "    </tr>\n",
              "    <tr>\n",
              "      <th>Date</th>\n",
              "      <th></th>\n",
              "      <th></th>\n",
              "      <th></th>\n",
              "      <th></th>\n",
              "      <th></th>\n",
              "      <th></th>\n",
              "    </tr>\n",
              "  </thead>\n",
              "  <tbody>\n",
              "    <tr>\n",
              "      <th>2016-01-04</th>\n",
              "      <td>27.585630</td>\n",
              "      <td>29.530001</td>\n",
              "      <td>30.660000</td>\n",
              "      <td>29.000000</td>\n",
              "      <td>30.660000</td>\n",
              "      <td>18265300</td>\n",
              "    </tr>\n",
              "    <tr>\n",
              "      <th>2016-01-05</th>\n",
              "      <td>28.024683</td>\n",
              "      <td>30.000000</td>\n",
              "      <td>30.299999</td>\n",
              "      <td>29.600000</td>\n",
              "      <td>30.049999</td>\n",
              "      <td>9426400</td>\n",
              "    </tr>\n",
              "    <tr>\n",
              "      <th>2016-01-06</th>\n",
              "      <td>27.800488</td>\n",
              "      <td>29.760000</td>\n",
              "      <td>30.030001</td>\n",
              "      <td>29.049999</td>\n",
              "      <td>29.230000</td>\n",
              "      <td>12988900</td>\n",
              "    </tr>\n",
              "    <tr>\n",
              "      <th>2016-01-07</th>\n",
              "      <td>26.109663</td>\n",
              "      <td>27.950001</td>\n",
              "      <td>29.150000</td>\n",
              "      <td>27.650000</td>\n",
              "      <td>28.340000</td>\n",
              "      <td>18155700</td>\n",
              "    </tr>\n",
              "    <tr>\n",
              "      <th>2016-01-08</th>\n",
              "      <td>25.801392</td>\n",
              "      <td>27.620001</td>\n",
              "      <td>28.900000</td>\n",
              "      <td>27.469999</td>\n",
              "      <td>28.580000</td>\n",
              "      <td>15164100</td>\n",
              "    </tr>\n",
              "  </tbody>\n",
              "</table>\n",
              "</div>\n",
              "    <div class=\"colab-df-buttons\">\n",
              "\n",
              "  <div class=\"colab-df-container\">\n",
              "    <button class=\"colab-df-convert\" onclick=\"convertToInteractive('df-987d4bd7-f233-4856-abe0-fa82fc19369e')\"\n",
              "            title=\"Convert this dataframe to an interactive table.\"\n",
              "            style=\"display:none;\">\n",
              "\n",
              "  <svg xmlns=\"http://www.w3.org/2000/svg\" height=\"24px\" viewBox=\"0 -960 960 960\">\n",
              "    <path d=\"M120-120v-720h720v720H120Zm60-500h600v-160H180v160Zm220 220h160v-160H400v160Zm0 220h160v-160H400v160ZM180-400h160v-160H180v160Zm440 0h160v-160H620v160ZM180-180h160v-160H180v160Zm440 0h160v-160H620v160Z\"/>\n",
              "  </svg>\n",
              "    </button>\n",
              "\n",
              "  <style>\n",
              "    .colab-df-container {\n",
              "      display:flex;\n",
              "      gap: 12px;\n",
              "    }\n",
              "\n",
              "    .colab-df-convert {\n",
              "      background-color: #E8F0FE;\n",
              "      border: none;\n",
              "      border-radius: 50%;\n",
              "      cursor: pointer;\n",
              "      display: none;\n",
              "      fill: #1967D2;\n",
              "      height: 32px;\n",
              "      padding: 0 0 0 0;\n",
              "      width: 32px;\n",
              "    }\n",
              "\n",
              "    .colab-df-convert:hover {\n",
              "      background-color: #E2EBFA;\n",
              "      box-shadow: 0px 1px 2px rgba(60, 64, 67, 0.3), 0px 1px 3px 1px rgba(60, 64, 67, 0.15);\n",
              "      fill: #174EA6;\n",
              "    }\n",
              "\n",
              "    .colab-df-buttons div {\n",
              "      margin-bottom: 4px;\n",
              "    }\n",
              "\n",
              "    [theme=dark] .colab-df-convert {\n",
              "      background-color: #3B4455;\n",
              "      fill: #D2E3FC;\n",
              "    }\n",
              "\n",
              "    [theme=dark] .colab-df-convert:hover {\n",
              "      background-color: #434B5C;\n",
              "      box-shadow: 0px 1px 3px 1px rgba(0, 0, 0, 0.15);\n",
              "      filter: drop-shadow(0px 1px 2px rgba(0, 0, 0, 0.3));\n",
              "      fill: #FFFFFF;\n",
              "    }\n",
              "  </style>\n",
              "\n",
              "    <script>\n",
              "      const buttonEl =\n",
              "        document.querySelector('#df-987d4bd7-f233-4856-abe0-fa82fc19369e button.colab-df-convert');\n",
              "      buttonEl.style.display =\n",
              "        google.colab.kernel.accessAllowed ? 'block' : 'none';\n",
              "\n",
              "      async function convertToInteractive(key) {\n",
              "        const element = document.querySelector('#df-987d4bd7-f233-4856-abe0-fa82fc19369e');\n",
              "        const dataTable =\n",
              "          await google.colab.kernel.invokeFunction('convertToInteractive',\n",
              "                                                    [key], {});\n",
              "        if (!dataTable) return;\n",
              "\n",
              "        const docLinkHtml = 'Like what you see? Visit the ' +\n",
              "          '<a target=\"_blank\" href=https://colab.research.google.com/notebooks/data_table.ipynb>data table notebook</a>'\n",
              "          + ' to learn more about interactive tables.';\n",
              "        element.innerHTML = '';\n",
              "        dataTable['output_type'] = 'display_data';\n",
              "        await google.colab.output.renderOutput(dataTable, element);\n",
              "        const docLink = document.createElement('div');\n",
              "        docLink.innerHTML = docLinkHtml;\n",
              "        element.appendChild(docLink);\n",
              "      }\n",
              "    </script>\n",
              "  </div>\n",
              "\n",
              "\n",
              "<div id=\"df-b1b94e86-9736-4087-847f-4e3c172179df\">\n",
              "  <button class=\"colab-df-quickchart\" onclick=\"quickchart('df-b1b94e86-9736-4087-847f-4e3c172179df')\"\n",
              "            title=\"Suggest charts\"\n",
              "            style=\"display:none;\">\n",
              "\n",
              "<svg xmlns=\"http://www.w3.org/2000/svg\" height=\"24px\"viewBox=\"0 0 24 24\"\n",
              "     width=\"24px\">\n",
              "    <g>\n",
              "        <path d=\"M19 3H5c-1.1 0-2 .9-2 2v14c0 1.1.9 2 2 2h14c1.1 0 2-.9 2-2V5c0-1.1-.9-2-2-2zM9 17H7v-7h2v7zm4 0h-2V7h2v10zm4 0h-2v-4h2v4z\"/>\n",
              "    </g>\n",
              "</svg>\n",
              "  </button>\n",
              "\n",
              "<style>\n",
              "  .colab-df-quickchart {\n",
              "      --bg-color: #E8F0FE;\n",
              "      --fill-color: #1967D2;\n",
              "      --hover-bg-color: #E2EBFA;\n",
              "      --hover-fill-color: #174EA6;\n",
              "      --disabled-fill-color: #AAA;\n",
              "      --disabled-bg-color: #DDD;\n",
              "  }\n",
              "\n",
              "  [theme=dark] .colab-df-quickchart {\n",
              "      --bg-color: #3B4455;\n",
              "      --fill-color: #D2E3FC;\n",
              "      --hover-bg-color: #434B5C;\n",
              "      --hover-fill-color: #FFFFFF;\n",
              "      --disabled-bg-color: #3B4455;\n",
              "      --disabled-fill-color: #666;\n",
              "  }\n",
              "\n",
              "  .colab-df-quickchart {\n",
              "    background-color: var(--bg-color);\n",
              "    border: none;\n",
              "    border-radius: 50%;\n",
              "    cursor: pointer;\n",
              "    display: none;\n",
              "    fill: var(--fill-color);\n",
              "    height: 32px;\n",
              "    padding: 0;\n",
              "    width: 32px;\n",
              "  }\n",
              "\n",
              "  .colab-df-quickchart:hover {\n",
              "    background-color: var(--hover-bg-color);\n",
              "    box-shadow: 0 1px 2px rgba(60, 64, 67, 0.3), 0 1px 3px 1px rgba(60, 64, 67, 0.15);\n",
              "    fill: var(--button-hover-fill-color);\n",
              "  }\n",
              "\n",
              "  .colab-df-quickchart-complete:disabled,\n",
              "  .colab-df-quickchart-complete:disabled:hover {\n",
              "    background-color: var(--disabled-bg-color);\n",
              "    fill: var(--disabled-fill-color);\n",
              "    box-shadow: none;\n",
              "  }\n",
              "\n",
              "  .colab-df-spinner {\n",
              "    border: 2px solid var(--fill-color);\n",
              "    border-color: transparent;\n",
              "    border-bottom-color: var(--fill-color);\n",
              "    animation:\n",
              "      spin 1s steps(1) infinite;\n",
              "  }\n",
              "\n",
              "  @keyframes spin {\n",
              "    0% {\n",
              "      border-color: transparent;\n",
              "      border-bottom-color: var(--fill-color);\n",
              "      border-left-color: var(--fill-color);\n",
              "    }\n",
              "    20% {\n",
              "      border-color: transparent;\n",
              "      border-left-color: var(--fill-color);\n",
              "      border-top-color: var(--fill-color);\n",
              "    }\n",
              "    30% {\n",
              "      border-color: transparent;\n",
              "      border-left-color: var(--fill-color);\n",
              "      border-top-color: var(--fill-color);\n",
              "      border-right-color: var(--fill-color);\n",
              "    }\n",
              "    40% {\n",
              "      border-color: transparent;\n",
              "      border-right-color: var(--fill-color);\n",
              "      border-top-color: var(--fill-color);\n",
              "    }\n",
              "    60% {\n",
              "      border-color: transparent;\n",
              "      border-right-color: var(--fill-color);\n",
              "    }\n",
              "    80% {\n",
              "      border-color: transparent;\n",
              "      border-right-color: var(--fill-color);\n",
              "      border-bottom-color: var(--fill-color);\n",
              "    }\n",
              "    90% {\n",
              "      border-color: transparent;\n",
              "      border-bottom-color: var(--fill-color);\n",
              "    }\n",
              "  }\n",
              "</style>\n",
              "\n",
              "  <script>\n",
              "    async function quickchart(key) {\n",
              "      const quickchartButtonEl =\n",
              "        document.querySelector('#' + key + ' button');\n",
              "      quickchartButtonEl.disabled = true;  // To prevent multiple clicks.\n",
              "      quickchartButtonEl.classList.add('colab-df-spinner');\n",
              "      try {\n",
              "        const charts = await google.colab.kernel.invokeFunction(\n",
              "            'suggestCharts', [key], {});\n",
              "      } catch (error) {\n",
              "        console.error('Error during call to suggestCharts:', error);\n",
              "      }\n",
              "      quickchartButtonEl.classList.remove('colab-df-spinner');\n",
              "      quickchartButtonEl.classList.add('colab-df-quickchart-complete');\n",
              "    }\n",
              "    (() => {\n",
              "      let quickchartButtonEl =\n",
              "        document.querySelector('#df-b1b94e86-9736-4087-847f-4e3c172179df button');\n",
              "      quickchartButtonEl.style.display =\n",
              "        google.colab.kernel.accessAllowed ? 'block' : 'none';\n",
              "    })();\n",
              "  </script>\n",
              "</div>\n",
              "\n",
              "    </div>\n",
              "  </div>\n"
            ],
            "application/vnd.google.colaboratory.intrinsic+json": {
              "type": "dataframe",
              "variable_name": "jd",
              "summary": "{\n  \"name\": \"jd\",\n  \"rows\": 2248,\n  \"fields\": [\n    {\n      \"column\": [\n        \"Date\",\n        \"\"\n      ],\n      \"properties\": {\n        \"dtype\": \"date\",\n        \"min\": \"2016-01-04 00:00:00\",\n        \"max\": \"2024-12-06 00:00:00\",\n        \"num_unique_values\": 2248,\n        \"samples\": [\n          \"2022-07-06 00:00:00\",\n          \"2017-11-30 00:00:00\",\n          \"2018-09-06 00:00:00\"\n        ],\n        \"semantic_type\": \"\",\n        \"description\": \"\"\n      }\n    },\n    {\n      \"column\": [\n        \"Adj Close\",\n        \"JD\"\n      ],\n      \"properties\": {\n        \"dtype\": \"number\",\n        \"std\": 18.320161532965994,\n        \"min\": 18.001190185546875,\n        \"max\": 99.84260559082031,\n        \"num_unique_values\": 1950,\n        \"samples\": [\n          33.99540710449219,\n          59.292762756347656,\n          67.93183135986328\n        ],\n        \"semantic_type\": \"\",\n        \"description\": \"\"\n      }\n    },\n    {\n      \"column\": [\n        \"Close\",\n        \"JD\"\n      ],\n      \"properties\": {\n        \"dtype\": \"number\",\n        \"std\": 19.699973903506944,\n        \"min\": 19.270000457763672,\n        \"max\": 106.87999725341797,\n        \"num_unique_values\": 1754,\n        \"samples\": [\n          42.0099983215332,\n          38.65999984741211,\n          40.25\n        ],\n        \"semantic_type\": \"\",\n        \"description\": \"\"\n      }\n    },\n    {\n      \"column\": [\n        \"High\",\n        \"JD\"\n      ],\n      \"properties\": {\n        \"dtype\": \"number\",\n        \"std\": 20.05714001785626,\n        \"min\": 19.8799991607666,\n        \"max\": 108.29000091552734,\n        \"num_unique_values\": 1859,\n        \"samples\": [\n          29.059999465942383,\n          46.400001525878906,\n          72.62000274658203\n        ],\n        \"semantic_type\": \"\",\n        \"description\": \"\"\n      }\n    },\n    {\n      \"column\": [\n        \"Low\",\n        \"JD\"\n      ],\n      \"properties\": {\n        \"dtype\": \"number\",\n        \"std\": 19.311646963583623,\n        \"min\": 19.209999084472656,\n        \"max\": 105.41999816894531,\n        \"num_unique_values\": 1852,\n        \"samples\": [\n          29.104999542236328,\n          49.709999084472656,\n          79.62000274658203\n        ],\n        \"semantic_type\": \"\",\n        \"description\": \"\"\n      }\n    },\n    {\n      \"column\": [\n        \"Open\",\n        \"JD\"\n      ],\n      \"properties\": {\n        \"dtype\": \"number\",\n        \"std\": 19.723605251023123,\n        \"min\": 19.760000228881836,\n        \"max\": 106.63999938964844,\n        \"num_unique_values\": 1741,\n        \"samples\": [\n          36.29999923706055,\n          35.85499954223633,\n          80.76000213623047\n        ],\n        \"semantic_type\": \"\",\n        \"description\": \"\"\n      }\n    },\n    {\n      \"column\": [\n        \"Volume\",\n        \"JD\"\n      ],\n      \"properties\": {\n        \"dtype\": \"number\",\n        \"std\": 7850491,\n        \"min\": 2880600,\n        \"max\": 95370800,\n        \"num_unique_values\": 2229,\n        \"samples\": [\n          7954800,\n          20053300,\n          2941700\n        ],\n        \"semantic_type\": \"\",\n        \"description\": \"\"\n      }\n    }\n  ]\n}"
            }
          },
          "metadata": {},
          "execution_count": 9
        }
      ]
    },
    {
      "metadata": {
        "trusted": true,
        "id": "EiPHZk7yDPDU",
        "colab": {
          "base_uri": "https://localhost:8080/",
          "height": 286
        },
        "outputId": "f2783f38-3329-407a-b83d-af7981e22c96"
      },
      "cell_type": "code",
      "source": [
        "#Alibaba\n",
        "alibaba = yf.download('BABA', start, end)\n",
        "alibaba.head()"
      ],
      "execution_count": 11,
      "outputs": [
        {
          "output_type": "stream",
          "name": "stderr",
          "text": [
            "\r[*********************100%***********************]  1 of 1 completed\n"
          ]
        },
        {
          "output_type": "execute_result",
          "data": {
            "text/plain": [
              "Price       Adj Close      Close       High        Low       Open    Volume\n",
              "Ticker           BABA       BABA       BABA       BABA       BABA      BABA\n",
              "Date                                                                       \n",
              "2016-01-04  74.063110  76.690002  78.309998  75.180000  78.180000  23066300\n",
              "2016-01-05  75.936653  78.629997  78.680000  77.260002  77.919998  14258900\n",
              "2016-01-06  74.681190  77.330002  78.485001  76.970001  77.120003  11569300\n",
              "2016-01-07  70.229095  72.720001  75.500000  71.540001  73.290001  27288100\n",
              "2016-01-08  68.374863  70.800003  74.660004  70.669998  74.330002  20814600"
            ],
            "text/html": [
              "\n",
              "  <div id=\"df-d02abeed-70cd-4c50-8958-5031df888de2\" class=\"colab-df-container\">\n",
              "    <div>\n",
              "<style scoped>\n",
              "    .dataframe tbody tr th:only-of-type {\n",
              "        vertical-align: middle;\n",
              "    }\n",
              "\n",
              "    .dataframe tbody tr th {\n",
              "        vertical-align: top;\n",
              "    }\n",
              "\n",
              "    .dataframe thead tr th {\n",
              "        text-align: left;\n",
              "    }\n",
              "\n",
              "    .dataframe thead tr:last-of-type th {\n",
              "        text-align: right;\n",
              "    }\n",
              "</style>\n",
              "<table border=\"1\" class=\"dataframe\">\n",
              "  <thead>\n",
              "    <tr>\n",
              "      <th>Price</th>\n",
              "      <th>Adj Close</th>\n",
              "      <th>Close</th>\n",
              "      <th>High</th>\n",
              "      <th>Low</th>\n",
              "      <th>Open</th>\n",
              "      <th>Volume</th>\n",
              "    </tr>\n",
              "    <tr>\n",
              "      <th>Ticker</th>\n",
              "      <th>BABA</th>\n",
              "      <th>BABA</th>\n",
              "      <th>BABA</th>\n",
              "      <th>BABA</th>\n",
              "      <th>BABA</th>\n",
              "      <th>BABA</th>\n",
              "    </tr>\n",
              "    <tr>\n",
              "      <th>Date</th>\n",
              "      <th></th>\n",
              "      <th></th>\n",
              "      <th></th>\n",
              "      <th></th>\n",
              "      <th></th>\n",
              "      <th></th>\n",
              "    </tr>\n",
              "  </thead>\n",
              "  <tbody>\n",
              "    <tr>\n",
              "      <th>2016-01-04</th>\n",
              "      <td>74.063110</td>\n",
              "      <td>76.690002</td>\n",
              "      <td>78.309998</td>\n",
              "      <td>75.180000</td>\n",
              "      <td>78.180000</td>\n",
              "      <td>23066300</td>\n",
              "    </tr>\n",
              "    <tr>\n",
              "      <th>2016-01-05</th>\n",
              "      <td>75.936653</td>\n",
              "      <td>78.629997</td>\n",
              "      <td>78.680000</td>\n",
              "      <td>77.260002</td>\n",
              "      <td>77.919998</td>\n",
              "      <td>14258900</td>\n",
              "    </tr>\n",
              "    <tr>\n",
              "      <th>2016-01-06</th>\n",
              "      <td>74.681190</td>\n",
              "      <td>77.330002</td>\n",
              "      <td>78.485001</td>\n",
              "      <td>76.970001</td>\n",
              "      <td>77.120003</td>\n",
              "      <td>11569300</td>\n",
              "    </tr>\n",
              "    <tr>\n",
              "      <th>2016-01-07</th>\n",
              "      <td>70.229095</td>\n",
              "      <td>72.720001</td>\n",
              "      <td>75.500000</td>\n",
              "      <td>71.540001</td>\n",
              "      <td>73.290001</td>\n",
              "      <td>27288100</td>\n",
              "    </tr>\n",
              "    <tr>\n",
              "      <th>2016-01-08</th>\n",
              "      <td>68.374863</td>\n",
              "      <td>70.800003</td>\n",
              "      <td>74.660004</td>\n",
              "      <td>70.669998</td>\n",
              "      <td>74.330002</td>\n",
              "      <td>20814600</td>\n",
              "    </tr>\n",
              "  </tbody>\n",
              "</table>\n",
              "</div>\n",
              "    <div class=\"colab-df-buttons\">\n",
              "\n",
              "  <div class=\"colab-df-container\">\n",
              "    <button class=\"colab-df-convert\" onclick=\"convertToInteractive('df-d02abeed-70cd-4c50-8958-5031df888de2')\"\n",
              "            title=\"Convert this dataframe to an interactive table.\"\n",
              "            style=\"display:none;\">\n",
              "\n",
              "  <svg xmlns=\"http://www.w3.org/2000/svg\" height=\"24px\" viewBox=\"0 -960 960 960\">\n",
              "    <path d=\"M120-120v-720h720v720H120Zm60-500h600v-160H180v160Zm220 220h160v-160H400v160Zm0 220h160v-160H400v160ZM180-400h160v-160H180v160Zm440 0h160v-160H620v160ZM180-180h160v-160H180v160Zm440 0h160v-160H620v160Z\"/>\n",
              "  </svg>\n",
              "    </button>\n",
              "\n",
              "  <style>\n",
              "    .colab-df-container {\n",
              "      display:flex;\n",
              "      gap: 12px;\n",
              "    }\n",
              "\n",
              "    .colab-df-convert {\n",
              "      background-color: #E8F0FE;\n",
              "      border: none;\n",
              "      border-radius: 50%;\n",
              "      cursor: pointer;\n",
              "      display: none;\n",
              "      fill: #1967D2;\n",
              "      height: 32px;\n",
              "      padding: 0 0 0 0;\n",
              "      width: 32px;\n",
              "    }\n",
              "\n",
              "    .colab-df-convert:hover {\n",
              "      background-color: #E2EBFA;\n",
              "      box-shadow: 0px 1px 2px rgba(60, 64, 67, 0.3), 0px 1px 3px 1px rgba(60, 64, 67, 0.15);\n",
              "      fill: #174EA6;\n",
              "    }\n",
              "\n",
              "    .colab-df-buttons div {\n",
              "      margin-bottom: 4px;\n",
              "    }\n",
              "\n",
              "    [theme=dark] .colab-df-convert {\n",
              "      background-color: #3B4455;\n",
              "      fill: #D2E3FC;\n",
              "    }\n",
              "\n",
              "    [theme=dark] .colab-df-convert:hover {\n",
              "      background-color: #434B5C;\n",
              "      box-shadow: 0px 1px 3px 1px rgba(0, 0, 0, 0.15);\n",
              "      filter: drop-shadow(0px 1px 2px rgba(0, 0, 0, 0.3));\n",
              "      fill: #FFFFFF;\n",
              "    }\n",
              "  </style>\n",
              "\n",
              "    <script>\n",
              "      const buttonEl =\n",
              "        document.querySelector('#df-d02abeed-70cd-4c50-8958-5031df888de2 button.colab-df-convert');\n",
              "      buttonEl.style.display =\n",
              "        google.colab.kernel.accessAllowed ? 'block' : 'none';\n",
              "\n",
              "      async function convertToInteractive(key) {\n",
              "        const element = document.querySelector('#df-d02abeed-70cd-4c50-8958-5031df888de2');\n",
              "        const dataTable =\n",
              "          await google.colab.kernel.invokeFunction('convertToInteractive',\n",
              "                                                    [key], {});\n",
              "        if (!dataTable) return;\n",
              "\n",
              "        const docLinkHtml = 'Like what you see? Visit the ' +\n",
              "          '<a target=\"_blank\" href=https://colab.research.google.com/notebooks/data_table.ipynb>data table notebook</a>'\n",
              "          + ' to learn more about interactive tables.';\n",
              "        element.innerHTML = '';\n",
              "        dataTable['output_type'] = 'display_data';\n",
              "        await google.colab.output.renderOutput(dataTable, element);\n",
              "        const docLink = document.createElement('div');\n",
              "        docLink.innerHTML = docLinkHtml;\n",
              "        element.appendChild(docLink);\n",
              "      }\n",
              "    </script>\n",
              "  </div>\n",
              "\n",
              "\n",
              "<div id=\"df-dd3144e7-942f-4b84-b32f-02c8d0fa265a\">\n",
              "  <button class=\"colab-df-quickchart\" onclick=\"quickchart('df-dd3144e7-942f-4b84-b32f-02c8d0fa265a')\"\n",
              "            title=\"Suggest charts\"\n",
              "            style=\"display:none;\">\n",
              "\n",
              "<svg xmlns=\"http://www.w3.org/2000/svg\" height=\"24px\"viewBox=\"0 0 24 24\"\n",
              "     width=\"24px\">\n",
              "    <g>\n",
              "        <path d=\"M19 3H5c-1.1 0-2 .9-2 2v14c0 1.1.9 2 2 2h14c1.1 0 2-.9 2-2V5c0-1.1-.9-2-2-2zM9 17H7v-7h2v7zm4 0h-2V7h2v10zm4 0h-2v-4h2v4z\"/>\n",
              "    </g>\n",
              "</svg>\n",
              "  </button>\n",
              "\n",
              "<style>\n",
              "  .colab-df-quickchart {\n",
              "      --bg-color: #E8F0FE;\n",
              "      --fill-color: #1967D2;\n",
              "      --hover-bg-color: #E2EBFA;\n",
              "      --hover-fill-color: #174EA6;\n",
              "      --disabled-fill-color: #AAA;\n",
              "      --disabled-bg-color: #DDD;\n",
              "  }\n",
              "\n",
              "  [theme=dark] .colab-df-quickchart {\n",
              "      --bg-color: #3B4455;\n",
              "      --fill-color: #D2E3FC;\n",
              "      --hover-bg-color: #434B5C;\n",
              "      --hover-fill-color: #FFFFFF;\n",
              "      --disabled-bg-color: #3B4455;\n",
              "      --disabled-fill-color: #666;\n",
              "  }\n",
              "\n",
              "  .colab-df-quickchart {\n",
              "    background-color: var(--bg-color);\n",
              "    border: none;\n",
              "    border-radius: 50%;\n",
              "    cursor: pointer;\n",
              "    display: none;\n",
              "    fill: var(--fill-color);\n",
              "    height: 32px;\n",
              "    padding: 0;\n",
              "    width: 32px;\n",
              "  }\n",
              "\n",
              "  .colab-df-quickchart:hover {\n",
              "    background-color: var(--hover-bg-color);\n",
              "    box-shadow: 0 1px 2px rgba(60, 64, 67, 0.3), 0 1px 3px 1px rgba(60, 64, 67, 0.15);\n",
              "    fill: var(--button-hover-fill-color);\n",
              "  }\n",
              "\n",
              "  .colab-df-quickchart-complete:disabled,\n",
              "  .colab-df-quickchart-complete:disabled:hover {\n",
              "    background-color: var(--disabled-bg-color);\n",
              "    fill: var(--disabled-fill-color);\n",
              "    box-shadow: none;\n",
              "  }\n",
              "\n",
              "  .colab-df-spinner {\n",
              "    border: 2px solid var(--fill-color);\n",
              "    border-color: transparent;\n",
              "    border-bottom-color: var(--fill-color);\n",
              "    animation:\n",
              "      spin 1s steps(1) infinite;\n",
              "  }\n",
              "\n",
              "  @keyframes spin {\n",
              "    0% {\n",
              "      border-color: transparent;\n",
              "      border-bottom-color: var(--fill-color);\n",
              "      border-left-color: var(--fill-color);\n",
              "    }\n",
              "    20% {\n",
              "      border-color: transparent;\n",
              "      border-left-color: var(--fill-color);\n",
              "      border-top-color: var(--fill-color);\n",
              "    }\n",
              "    30% {\n",
              "      border-color: transparent;\n",
              "      border-left-color: var(--fill-color);\n",
              "      border-top-color: var(--fill-color);\n",
              "      border-right-color: var(--fill-color);\n",
              "    }\n",
              "    40% {\n",
              "      border-color: transparent;\n",
              "      border-right-color: var(--fill-color);\n",
              "      border-top-color: var(--fill-color);\n",
              "    }\n",
              "    60% {\n",
              "      border-color: transparent;\n",
              "      border-right-color: var(--fill-color);\n",
              "    }\n",
              "    80% {\n",
              "      border-color: transparent;\n",
              "      border-right-color: var(--fill-color);\n",
              "      border-bottom-color: var(--fill-color);\n",
              "    }\n",
              "    90% {\n",
              "      border-color: transparent;\n",
              "      border-bottom-color: var(--fill-color);\n",
              "    }\n",
              "  }\n",
              "</style>\n",
              "\n",
              "  <script>\n",
              "    async function quickchart(key) {\n",
              "      const quickchartButtonEl =\n",
              "        document.querySelector('#' + key + ' button');\n",
              "      quickchartButtonEl.disabled = true;  // To prevent multiple clicks.\n",
              "      quickchartButtonEl.classList.add('colab-df-spinner');\n",
              "      try {\n",
              "        const charts = await google.colab.kernel.invokeFunction(\n",
              "            'suggestCharts', [key], {});\n",
              "      } catch (error) {\n",
              "        console.error('Error during call to suggestCharts:', error);\n",
              "      }\n",
              "      quickchartButtonEl.classList.remove('colab-df-spinner');\n",
              "      quickchartButtonEl.classList.add('colab-df-quickchart-complete');\n",
              "    }\n",
              "    (() => {\n",
              "      let quickchartButtonEl =\n",
              "        document.querySelector('#df-dd3144e7-942f-4b84-b32f-02c8d0fa265a button');\n",
              "      quickchartButtonEl.style.display =\n",
              "        google.colab.kernel.accessAllowed ? 'block' : 'none';\n",
              "    })();\n",
              "  </script>\n",
              "</div>\n",
              "\n",
              "    </div>\n",
              "  </div>\n"
            ],
            "application/vnd.google.colaboratory.intrinsic+json": {
              "type": "dataframe",
              "variable_name": "alibaba",
              "summary": "{\n  \"name\": \"alibaba\",\n  \"rows\": 2248,\n  \"fields\": [\n    {\n      \"column\": [\n        \"Date\",\n        \"\"\n      ],\n      \"properties\": {\n        \"dtype\": \"date\",\n        \"min\": \"2016-01-04 00:00:00\",\n        \"max\": \"2024-12-06 00:00:00\",\n        \"num_unique_values\": 2248,\n        \"samples\": [\n          \"2022-07-06 00:00:00\",\n          \"2017-11-30 00:00:00\",\n          \"2018-09-06 00:00:00\"\n        ],\n        \"semantic_type\": \"\",\n        \"description\": \"\"\n      }\n    },\n    {\n      \"column\": [\n        \"Adj Close\",\n        \"BABA\"\n      ],\n      \"properties\": {\n        \"dtype\": \"number\",\n        \"std\": 57.5075039816781,\n        \"min\": 58.49527359008789,\n        \"max\": 306.2768859863281,\n        \"num_unique_values\": 2131,\n        \"samples\": [\n          98.80553436279297,\n          76.37999725341797,\n          84.78289794921875\n        ],\n        \"semantic_type\": \"\",\n        \"description\": \"\"\n      }\n    },\n    {\n      \"column\": [\n        \"Close\",\n        \"BABA\"\n      ],\n      \"properties\": {\n        \"dtype\": \"number\",\n        \"std\": 59.758499031014445,\n        \"min\": 60.56999969482422,\n        \"max\": 317.1400146484375,\n        \"num_unique_values\": 2094,\n        \"samples\": [\n          89.0,\n          195.19000244140625,\n          173.3000030517578\n        ],\n        \"semantic_type\": \"\",\n        \"description\": \"\"\n      }\n    },\n    {\n      \"column\": [\n        \"High\",\n        \"BABA\"\n      ],\n      \"properties\": {\n        \"dtype\": \"number\",\n        \"std\": 60.38438161240396,\n        \"min\": 61.630001068115234,\n        \"max\": 319.32000732421875,\n        \"num_unique_values\": 2077,\n        \"samples\": [\n          93.68000030517578,\n          180.47999572753906,\n          105.11000061035156\n        ],\n        \"semantic_type\": \"\",\n        \"description\": \"\"\n      }\n    },\n    {\n      \"column\": [\n        \"Low\",\n        \"BABA\"\n      ],\n      \"properties\": {\n        \"dtype\": \"number\",\n        \"std\": 59.05134172878578,\n        \"min\": 58.0099983215332,\n        \"max\": 308.9100036621094,\n        \"num_unique_values\": 2080,\n        \"samples\": [\n          153.6699981689453,\n          170.74000549316406,\n          178.6199951171875\n        ],\n        \"semantic_type\": \"\",\n        \"description\": \"\"\n      }\n    },\n    {\n      \"column\": [\n        \"Open\",\n        \"BABA\"\n      ],\n      \"properties\": {\n        \"dtype\": \"number\",\n        \"std\": 59.84702687534814,\n        \"min\": 60.11000061035156,\n        \"max\": 313.5,\n        \"num_unique_values\": 2051,\n        \"samples\": [\n          267.57000732421875,\n          106.79000091552734,\n          83.8499984741211\n        ],\n        \"semantic_type\": \"\",\n        \"description\": \"\"\n      }\n    },\n    {\n      \"column\": [\n        \"Volume\",\n        \"BABA\"\n      ],\n      \"properties\": {\n        \"dtype\": \"number\",\n        \"std\": 11780554,\n        \"min\": 4120700,\n        \"max\": 159834300,\n        \"num_unique_values\": 2241,\n        \"samples\": [\n          8434800,\n          13566900,\n          21428400\n        ],\n        \"semantic_type\": \"\",\n        \"description\": \"\"\n      }\n    }\n  ]\n}"
            }
          },
          "metadata": {},
          "execution_count": 11
        }
      ]
    },
    {
      "metadata": {
        "id": "AoBhyuUIDPDU"
      },
      "cell_type": "markdown",
      "source": [
        "***Stock Market Data Visualization***"
      ]
    },
    {
      "metadata": {
        "id": "ysm0v0jUDPDV"
      },
      "cell_type": "markdown",
      "source": [
        "First, plot 'Open Price' for each of the stocks at the same graph. The trading 'Opening Price' for JD.com is pretty consistent with a small increase in 2017 and 2018. However, 'Opening Prices' for the other two have been increasing over time with a positive trend. Alibaba's Opening Price does not have any high picks. However, for Shopify, there 2 distinctive high picks, and the second pick is the all-time highest and still is in progress.\n",
        "\n",
        "*Note: to get rid of all of the black-boxed messages type \";\" at the end of the code.*"
      ]
    },
    {
      "metadata": {
        "trusted": true,
        "id": "WoFHFEIkDPDV"
      },
      "cell_type": "code",
      "source": [
        "shop['Open'].plot(label = 'Shopify', figsize = (16,10), title = 'Opening Prices')\n",
        "jd['Open'].plot(label = 'JD.com')\n",
        "alibaba['Open'].plot(label = 'Alibaba')\n",
        "plt.legend(loc = 'best');"
      ],
      "execution_count": null,
      "outputs": []
    },
    {
      "metadata": {
        "id": "w2cmo16NDPDW"
      },
      "cell_type": "markdown",
      "source": [
        "Now let's plot the Volume of each stock that was traded every day"
      ]
    },
    {
      "metadata": {
        "trusted": true,
        "id": "PQf73ufaDPDW"
      },
      "cell_type": "code",
      "source": [
        "shop['Volume'].plot(label = 'Shopify', figsize = (16,10), title = 'Volume Traded')\n",
        "jd['Volume'].plot(label = 'JD.com')\n",
        "alibaba['Volume'].plot(label = 'Alibaba')\n",
        "plt.legend();"
      ],
      "execution_count": null,
      "outputs": []
    },
    {
      "metadata": {
        "id": "mDRub4zfDPDW"
      },
      "cell_type": "markdown",
      "source": [
        "Shopify's stock is not being traded at the same volume as the other two. However, for JD.com I would distinguish 2 high picks and for Alibaba company there 4 very high peaks."
      ]
    },
    {
      "metadata": {
        "id": "t6bocGSsDPDX"
      },
      "cell_type": "markdown",
      "source": [
        "Another useful visual would be a visual of the total volume that was traded."
      ]
    },
    {
      "metadata": {
        "trusted": true,
        "id": "g_K1rMDIDPDX"
      },
      "cell_type": "code",
      "source": [
        "shop['Total Traded'] = shop['Open']*shop['Volume']\n",
        "jd['Total Traded'] = jd['Open']*jd['Volume']\n",
        "alibaba['Total Traded'] = alibaba['Open']*alibaba['Volume']\n",
        "\n",
        "shop['Total Traded'].plot(figsize = (16,8), label = 'Shopify')\n",
        "jd['Total Traded'].plot(figsize = (16,8), label = 'JD.com')\n",
        "alibaba['Total Traded'].plot(figsize = (16,8), label = 'Alibaba')\n",
        "plt.legend(loc = 'best');"
      ],
      "execution_count": null,
      "outputs": []
    },
    {
      "metadata": {
        "id": "q40ir2nqDPDX"
      },
      "cell_type": "markdown",
      "source": [
        "To make it more precise, I would use average prices instead of the price at the opening."
      ]
    },
    {
      "metadata": {
        "trusted": true,
        "id": "7ZHBt0elDPDY"
      },
      "cell_type": "code",
      "source": [
        "shop['Avg'] = shop[['High', 'Low']].mean(axis=1)\n",
        "jd['Avg'] = jd[['High', 'Low']].mean(axis=1)\n",
        "alibaba['Avg'] = alibaba[['High', 'Low']].mean(axis=1)\n",
        "\n",
        "shop['Total Traded New'] = shop['Avg']*shop['Volume']\n",
        "jd['Total Traded New'] = jd['Avg']*jd['Volume']\n",
        "alibaba['Total Traded New'] = alibaba['Avg']*alibaba['Volume']\n",
        "\n",
        "shop['Total Traded New'].plot(figsize = (16,8), label = 'Shopify')\n",
        "jd['Total Traded New'].plot(figsize = (16,8), label = 'JD.com')\n",
        "alibaba['Total Traded New'].plot(figsize = (16,8), label = 'Alibaba')\n",
        "plt.legend(loc = 'best');"
      ],
      "execution_count": null,
      "outputs": []
    },
    {
      "metadata": {
        "id": "qx2WvLsaDPDZ"
      },
      "cell_type": "markdown",
      "source": [
        "Now we can compare Total Traded vs Total Traded New."
      ]
    },
    {
      "metadata": {
        "trusted": true,
        "id": "vqSBTcJ7DPDa"
      },
      "cell_type": "code",
      "source": [
        "shop['Total Traded'].plot(figsize = (16,8), label = 'Shopify')\n",
        "shop['Total Traded New'].plot(figsize = (16,8), label = 'Shopify of Avg')\n",
        "plt.legend(loc = 'best');"
      ],
      "execution_count": null,
      "outputs": []
    },
    {
      "metadata": {
        "id": "9mEx4X9XDPDb"
      },
      "cell_type": "markdown",
      "source": [
        "### **Moving Average**"
      ]
    },
    {
      "metadata": {
        "id": "6CF-xvfyDPDb"
      },
      "cell_type": "markdown",
      "source": [
        "Moving Average (MA) is widely used in technical analysis to smooth out the price by taking out the \"noise\" from random short-term price changes. Since it is based on historical prices, it is a lagging or trend-following indicator."
      ]
    },
    {
      "metadata": {
        "trusted": true,
        "id": "C0yVc5sNDPDb"
      },
      "cell_type": "code",
      "source": [
        "shop['MA50'] = shop['Open'].rolling(50).mean()\n",
        "shop['MA200'] = shop['Open'].rolling(200).mean()\n",
        "shop[['Open','MA50','MA200']].plot(figsize = (16,10))\n",
        "\n",
        "jd['MA50'] = jd['Open'].rolling(50).mean()\n",
        "jd['MA200'] = jd['Open'].rolling(200).mean()\n",
        "\n",
        "alibaba['MA50'] = alibaba['Open'].rolling(50).mean()\n",
        "alibaba['MA200'] = alibaba['Open'].rolling(200).mean()"
      ],
      "execution_count": null,
      "outputs": []
    },
    {
      "metadata": {
        "id": "OWgIE3f9DPDb"
      },
      "cell_type": "markdown",
      "source": [
        "## Basic Analysis"
      ]
    },
    {
      "metadata": {
        "trusted": true,
        "id": "2FumdlVjDPDc"
      },
      "cell_type": "code",
      "source": [
        "from pandas.plotting import scatter_matrix\n",
        "\n",
        "ret_comp = pd.concat([shop['Open'],jd['Open'],alibaba['Open']], axis = 1)\n",
        "ret_comp.columns = ['Shopify Open', 'JD Open', 'Alibaba Open']\n",
        "scatter_matrix(ret_comp, figsize =(8,8), alpha = 0.2, hist_kwds={'bins':50});"
      ],
      "execution_count": null,
      "outputs": []
    },
    {
      "metadata": {
        "id": "Oh_FsESLDPDc"
      },
      "cell_type": "markdown",
      "source": [
        "Based on the graphs above, Alibaba's and JD's opening prices are positively correlated, but their histograms have 2 distinctive peaks showing that the data bimodal distribution. It often means that there are two different processes in the displayed data. None of the histograms are symmetrical or skewed."
      ]
    },
    {
      "metadata": {
        "id": "SStIsdCzDPDc"
      },
      "cell_type": "markdown",
      "source": [
        "### Candlestick chart for a specific date"
      ]
    },
    {
      "metadata": {
        "trusted": true,
        "id": "35TUUPdfDPDc"
      },
      "cell_type": "code",
      "source": [
        "pip install mpl-finance"
      ],
      "execution_count": null,
      "outputs": []
    },
    {
      "metadata": {
        "trusted": true,
        "id": "YQhVkklqDPDd"
      },
      "cell_type": "code",
      "source": [
        "from mpl_finance import candlestick_ohlc\n",
        "from matplotlib.dates import DateFormatter,date2num,WeekdayLocator, DayLocator, MONDAY\n",
        "\n",
        "shop_jan19 = shop.loc['2020-01'].reset_index()\n",
        "shop_jan19['date_ax'] = shop_jan19['Date'].apply(lambda date: date2num(date))\n",
        "\n",
        "list_of_col = ['date_ax', 'Open', 'High', 'Low', 'Close']\n",
        "shop_values = [tuple(vals) for vals in shop_jan19[list_of_col].values]\n",
        "\n",
        "mondays = WeekdayLocator(MONDAY)        # major ticks on the mondays\n",
        "alldays = DayLocator()              # minor ticks on the days\n",
        "weekFormatter = DateFormatter('%b %d')  # e.g., Jan 12\n",
        "dayFormatter = DateFormatter('%d')      # e.g., 12\n",
        "\n",
        "fig, ax = plt.subplots()\n",
        "fig.subplots_adjust(bottom=0.2)\n",
        "ax.xaxis.set_major_locator(mondays)\n",
        "ax.xaxis.set_minor_locator(alldays)\n",
        "ax.xaxis.set_major_formatter(weekFormatter)\n",
        "\n",
        "candlestick_ohlc(ax, shop_values, width=0.6, colorup='g',colordown='r');"
      ],
      "execution_count": null,
      "outputs": []
    },
    {
      "metadata": {
        "id": "OD1ooETeDPDd"
      },
      "cell_type": "markdown",
      "source": [
        "In January of 2020, Shopify's stock price keeps growing with just a few decreases marked in red. Latest move down was around January 24th, and on January 27th it picks back up.  "
      ]
    },
    {
      "metadata": {
        "trusted": true,
        "id": "W1gLcL-XDPDd"
      },
      "cell_type": "code",
      "source": [
        "jd_jan19 = jd.loc['2020-01'].reset_index()\n",
        "jd_jan19['date_ax'] = jd_jan19['Date'].apply(lambda date: date2num(date))\n",
        "\n",
        "list_of_col = ['date_ax', 'Open', 'High', 'Low', 'Close']\n",
        "jd_values = [tuple(vals) for vals in jd_jan19[list_of_col].values]\n",
        "\n",
        "fig, ax = plt.subplots()\n",
        "fig.subplots_adjust(bottom=0.2)\n",
        "ax.xaxis.set_major_locator(mondays)\n",
        "ax.xaxis.set_minor_locator(alldays)\n",
        "ax.xaxis.set_major_formatter(weekFormatter)\n",
        "\n",
        "candlestick_ohlc(ax, jd_values, width=0.6, colorup='g',colordown='r');"
      ],
      "execution_count": null,
      "outputs": []
    },
    {
      "metadata": {
        "id": "F8G6wkmqDPDe"
      },
      "cell_type": "raw",
      "source": [
        "For the stock of JD.com, we see the same pattern with the last decrease in prices on January 24th and increase afterwords. However, it has not come back to the highest point yet."
      ]
    },
    {
      "metadata": {
        "trusted": true,
        "id": "Z2abDSPVDPDe"
      },
      "cell_type": "code",
      "source": [
        "alibaba_jan19 = alibaba.loc['2020-01'].reset_index()\n",
        "alibaba_jan19['date_ax'] = alibaba_jan19['Date'].apply(lambda date: date2num(date))\n",
        "\n",
        "list_of_col = ['date_ax', 'Open', 'High', 'Low', 'Close']\n",
        "alibaba_values = [tuple(vals) for vals in alibaba_jan19[list_of_col].values]\n",
        "\n",
        "fig, ax = plt.subplots()\n",
        "fig.subplots_adjust(bottom=0.2)\n",
        "ax.xaxis.set_major_locator(mondays)\n",
        "ax.xaxis.set_minor_locator(alldays)\n",
        "ax.xaxis.set_major_formatter(weekFormatter)\n",
        "\n",
        "candlestick_ohlc(ax, alibaba_values, width=0.6, colorup='g',colordown='r');"
      ],
      "execution_count": null,
      "outputs": []
    },
    {
      "metadata": {
        "id": "BnrfT3VvDPDf"
      },
      "cell_type": "markdown",
      "source": [
        "However, Alibaba's stock had a pretty big decrease after January 13th of 2020."
      ]
    },
    {
      "metadata": {
        "id": "kQsNwwKtDPDf"
      },
      "cell_type": "markdown",
      "source": [
        "## Basic Financial Analysis"
      ]
    },
    {
      "metadata": {
        "id": "DOvBxpgbDPDf"
      },
      "cell_type": "markdown",
      "source": [
        "By looking at a daily percentage change, it can be concluded stock's volatility and how risky it is. The formula is simple: more volatility = more risk."
      ]
    },
    {
      "metadata": {
        "trusted": true,
        "id": "J5WSV-WODPDf"
      },
      "cell_type": "code",
      "source": [
        "shop['Returns'] = shop['Close'].pct_change(1)\n",
        "jd['Returns'] = jd['Close'].pct_change(1)\n",
        "alibaba['Returns'] = alibaba['Close'].pct_change(1)\n",
        "shop['Returns'].hist(bins = 50);"
      ],
      "execution_count": null,
      "outputs": []
    },
    {
      "metadata": {
        "trusted": true,
        "id": "2MpB31p1DPDf"
      },
      "cell_type": "code",
      "source": [
        "jd['Returns'].hist(bins = 50);"
      ],
      "execution_count": null,
      "outputs": []
    },
    {
      "metadata": {
        "trusted": true,
        "id": "5GPAbYOvDPDg"
      },
      "cell_type": "code",
      "source": [
        "alibaba['Returns'].hist(bins = 50);"
      ],
      "execution_count": null,
      "outputs": []
    },
    {
      "metadata": {
        "id": "7C9Er1WbDPDg"
      },
      "cell_type": "markdown",
      "source": [
        "Since the histograms have a 'bell'-shaped form and are symmetric around zero, the data is normally distributed."
      ]
    },
    {
      "metadata": {
        "id": "8yonwzCFDPDg"
      },
      "cell_type": "markdown",
      "source": [
        "By plotting all 3 on the graph, let us compare them back to back."
      ]
    },
    {
      "metadata": {
        "trusted": true,
        "id": "-Zvd3QppDPDg"
      },
      "cell_type": "code",
      "source": [
        "shop['Returns'].hist(bins = 100, figsize=(16,8), label = 'Shopify', alpha=0.4)\n",
        "jd['Returns'].hist(bins = 100, figsize=(16,8), label = 'JD.com', alpha=0.4)\n",
        "alibaba['Returns'].hist(bins = 100, figsize=(16,8), label = 'Alibaba', alpha=0.4)\n",
        "plt.legend();"
      ],
      "execution_count": null,
      "outputs": []
    },
    {
      "metadata": {
        "id": "xbeVJp2rDPDg"
      },
      "cell_type": "markdown",
      "source": [
        "### Kernal Density Estimate type of graph"
      ]
    },
    {
      "metadata": {
        "id": "RXq9PbINDPDh"
      },
      "cell_type": "markdown",
      "source": [
        "This graph is used to visualize the Probability Density of a time series. The higher the pick = less volatile the time series."
      ]
    },
    {
      "metadata": {
        "trusted": true,
        "id": "5qah3xKlDPDh"
      },
      "cell_type": "code",
      "source": [
        "shop['Returns'].plot(kind='kde', label = 'Shopify', figsize=(10,8))\n",
        "jd['Returns'].plot(kind='kde', label = 'JD.com',figsize=(10,8))\n",
        "alibaba['Returns'].plot(kind='kde', label = 'Alibaba', figsize=(10,8))\n",
        "plt.legend();"
      ],
      "execution_count": null,
      "outputs": []
    },
    {
      "metadata": {
        "id": "BJfgwPAaDPDh"
      },
      "cell_type": "markdown",
      "source": [
        "So, Shopify's data is the most volatile out of 3."
      ]
    },
    {
      "metadata": {
        "id": "QgXhLuaADPDh"
      },
      "cell_type": "markdown",
      "source": [
        "### Boxplots on the returns"
      ]
    },
    {
      "metadata": {
        "trusted": true,
        "id": "sEYANkfODPDh"
      },
      "cell_type": "code",
      "source": [
        "box_df = pd.concat([shop['Returns'], jd['Returns'], alibaba['Returns']], axis = 1)\n",
        "box_df.columns = ['Shopify Ret', 'JD Ret', 'Alibaba Ret']\n",
        "box_df.plot(kind='box', figsize = (8,10));"
      ],
      "execution_count": null,
      "outputs": []
    },
    {
      "metadata": {
        "id": "OWHhE4Q6DPDh"
      },
      "cell_type": "markdown",
      "source": [
        "Most of the data is between 0.025 and -0.025 with the mean around 0. Unfortunately, there are many outliers."
      ]
    },
    {
      "metadata": {
        "id": "HnPWj6J9DPDi"
      },
      "cell_type": "markdown",
      "source": [
        "### Scatterplot"
      ]
    },
    {
      "metadata": {
        "id": "An00N3t0DPDi"
      },
      "cell_type": "markdown",
      "source": [
        "To see the correlation of the daily returns scatterplots can used."
      ]
    },
    {
      "metadata": {
        "trusted": true,
        "id": "hlo8Pm7ZDPDi"
      },
      "cell_type": "code",
      "source": [
        "scatter_matrix(box_df, figsize=(8,8), alpha = 0.2, hist_kwds={'bins':100});"
      ],
      "execution_count": null,
      "outputs": []
    },
    {
      "metadata": {
        "id": "9TongaikDPDi"
      },
      "cell_type": "markdown",
      "source": [
        "Based on the scatterplots, can be said that the data is normally distributed and symmetric around 0. Also, as seen in the graph below, a positive correlation is still present between Alibaba and JD.com stock returns."
      ]
    },
    {
      "metadata": {
        "trusted": true,
        "id": "26yqN1HTDPDi"
      },
      "cell_type": "code",
      "source": [
        "box_df.plot(kind='scatter', x='JD Ret', y='Alibaba Ret', alpha = 0.5, figsize = (10,8));"
      ],
      "execution_count": null,
      "outputs": []
    }
  ],
  "metadata": {
    "kernelspec": {
      "language": "python",
      "display_name": "Python 3",
      "name": "python3"
    },
    "language_info": {
      "pygments_lexer": "ipython3",
      "nbconvert_exporter": "python",
      "version": "3.6.4",
      "file_extension": ".py",
      "codemirror_mode": {
        "name": "ipython",
        "version": 3
      },
      "name": "python",
      "mimetype": "text/x-python"
    },
    "colab": {
      "provenance": []
    }
  },
  "nbformat": 4,
  "nbformat_minor": 0
}